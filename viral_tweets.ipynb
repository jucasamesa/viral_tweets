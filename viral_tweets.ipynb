{
 "cells": [
  {
   "cell_type": "markdown",
   "metadata": {},
   "source": [
    "# Off-Platform Project: Viral Tweets\n",
    "\n",
    "In this project, we are going to use the K-Nearest Neighbor algorithm to predict whether a tweet will go viral. Before jumping into using the classifier, let's first consider the problem we're trying to solve. Which features of a tweet are most closely linked to its popularity? Maybe the number of hashtags or the number of links in the tweet strongly influences its popularity. Maybe its virality is dependent on how many followers the person has. Maybe it's something more subtle like the specific language used in the tweets.\n",
    "\n",
    "Let's explore these options by looking at the data we have available to us. We've imported the dataset and printed the following information:\n",
    "\n",
    "* The total number of tweets in the dataset.\n",
    "* The columns, or features, of the dataset.\n",
    "* The text of the first tweet in the dataset.\n",
    "\n",
    "Some of these features are dictionaries. For example, the feature `\"user\"` is a dictionary. We might want to use some of the information found in these sub-dictionaries. Print `all_tweets.loc[0][\"user\"]` to see what the `\"user\"` feature looks like.\n",
    "\n",
    "After printing that, try printing just the `\"location\"` found in that `\"user\"` dictionary. For example, `all_tweets.loc[0][\"user\"][\"screen_name\"]` would give you only the screen name associated with the first tweet."
   ]
  },
  {
   "cell_type": "code",
   "execution_count": 15,
   "metadata": {},
   "outputs": [
    {
     "name": "stdout",
     "output_type": "stream",
     "text": [
      "11099\n",
      "Index(['created_at', 'id', 'id_str', 'text', 'truncated', 'entities',\n",
      "       'metadata', 'source', 'in_reply_to_status_id',\n",
      "       'in_reply_to_status_id_str', 'in_reply_to_user_id',\n",
      "       'in_reply_to_user_id_str', 'in_reply_to_screen_name', 'user', 'geo',\n",
      "       'coordinates', 'place', 'contributors', 'retweeted_status',\n",
      "       'is_quote_status', 'retweet_count', 'favorite_count', 'favorited',\n",
      "       'retweeted', 'lang', 'possibly_sensitive', 'quoted_status_id',\n",
      "       'quoted_status_id_str', 'extended_entities', 'quoted_status',\n",
      "       'withheld_in_countries'],\n",
      "      dtype='object')\n",
      "Did a demo of our Mobile Prototyping Kit at UX/UI meetup in Shanghai. The kit is based on Framer. The component vie… https://t.co/pwSDgMRIwI\n",
      "{'id': 33301256, 'id_str': '33301256', 'name': 'Alexander Artsvuni', 'screen_name': 'sard_', 'location': 'London', 'description': 'Principal Designer @Farfetch. Killed 3 Marketing VPs 👾👾👾', 'url': 'https://t.co/QRaSUkPq3L', 'entities': {'url': {'urls': [{'url': 'https://t.co/QRaSUkPq3L', 'expanded_url': 'http://artsvuni.com', 'display_url': 'artsvuni.com', 'indices': [0, 23]}]}, 'description': {'urls': []}}, 'protected': False, 'followers_count': 259, 'friends_count': 204, 'listed_count': 40, 'created_at': 'Sun Apr 19 20:18:05 +0000 2009', 'favourites_count': 626, 'utc_offset': None, 'time_zone': None, 'geo_enabled': True, 'verified': False, 'statuses_count': 573, 'lang': 'en', 'contributors_enabled': False, 'is_translator': False, 'is_translation_enabled': False, 'profile_background_color': 'FFFFFF', 'profile_background_image_url': 'http://abs.twimg.com/images/themes/theme5/bg.gif', 'profile_background_image_url_https': 'https://abs.twimg.com/images/themes/theme5/bg.gif', 'profile_background_tile': False, 'profile_image_url': 'http://pbs.twimg.com/profile_images/901909840662077442/IGBen0nK_normal.jpg', 'profile_image_url_https': 'https://pbs.twimg.com/profile_images/901909840662077442/IGBen0nK_normal.jpg', 'profile_banner_url': 'https://pbs.twimg.com/profile_banners/33301256/1491059038', 'profile_link_color': '003EFF', 'profile_sidebar_border_color': 'FFFFFF', 'profile_sidebar_fill_color': '99CC33', 'profile_text_color': '3E4415', 'profile_use_background_image': False, 'has_extended_profile': False, 'default_profile': False, 'default_profile_image': False, 'following': False, 'follow_request_sent': False, 'notifications': False, 'translator_type': 'none'}\n",
      "sard_\n",
      "London\n"
     ]
    }
   ],
   "source": [
    "import pandas as pd\n",
    "\n",
    "all_tweets = pd.read_json(\"random_tweets.json\", lines=True)\n",
    "\n",
    "print(len(all_tweets))\n",
    "#11099\n",
    "print(all_tweets.columns)\n",
    "print(all_tweets.loc[6]['text'])\n",
    "\n",
    "#Print the user here and the user's location here.\n",
    "print(all_tweets.loc[6]['user'])\n",
    "print(all_tweets.loc[6]['user']['screen_name'])\n",
    "print(all_tweets.loc[6]['user']['location'])"
   ]
  },
  {
   "cell_type": "markdown",
   "metadata": {},
   "source": [
    "# Defining Viral Tweets\n",
    "\n",
    "A K-Nearest Neighbor classifier is a supervised machine learning algorithm, and as a result, we need to have a dataset with tagged labels. For this specific example, we need a dataset where every tweet is marked as viral or not viral. Unfortunately, this isn't a feature of our dataset &mdash; we'll need to make it ourselves.\n",
    "\n",
    "So how do we define a viral tweet? A good place to start is to look at the number of retweets the tweet has. This can be found using the feature `\"retweet_count\"`. Let's say we wanted to create a column called `is_viral` that is a `1` if the tweet had more than `5` retweets and `0` otherwise. We could do that like this:\n",
    "\n",
    "```py\n",
    "all_tweets['is_viral'] = np.where(all_tweets['retweet_count'] > 5, 1, 0)\n",
    "```\n",
    "\n",
    "Instead of using `5` as the benchmark for a viral tweet, let's use the median number of retweets. You can find that by calling the `median()` function on `all_tweets[\"retweet_count\"]`. Print the median number of retweets to understand what this threshold is.\n",
    "\n",
    "Print the number of viral tweets and non-viral tweets. You can do this using `all_tweets['is_viral'].value_counts()`.\n",
    "\n",
    "After finishing this project, consider coming back and playing with this threshold number. How do you think your model would work if it was trying to find incredibly viral tweets? For example, how would it work if it were looking for tweets with 1000 or more retweets?"
   ]
  },
  {
   "cell_type": "code",
   "execution_count": 24,
   "metadata": {},
   "outputs": [
    {
     "name": "stdout",
     "output_type": "stream",
     "text": [
      "2777.95639246779\n",
      "0    9625\n",
      "1    1474\n",
      "Name: is_viral, dtype: int64\n"
     ]
    }
   ],
   "source": [
    "import numpy as np\n",
    "average = all_tweets['retweet_count'].mean()\n",
    "print(average)\n",
    "all_tweets['is_viral'] = np.where(all_tweets['retweet_count'] >= average, 1, 0)\n",
    "print(all_tweets['is_viral'].value_counts())"
   ]
  },
  {
   "cell_type": "markdown",
   "metadata": {},
   "source": [
    "# Making Features\n",
    "\n",
    "Now that we've created a label for every tweet in our dataset, we can begin thinking about which features might determine whether a tweet is viral. We can create new columns in our dataset to represent these features. For example, let's say we think the length of a tweet might be a valuable feature. The following line creates a new column containing the length of the tweet.\n",
    "\n",
    "```py\n",
    "all_tweets['tweet_length'] = all_tweets.apply(lambda tweet: len(tweet['text']), axis=1)\n",
    "```\n",
    "\n",
    "Setting `axis = 1` creates a new column rather than a new row.\n",
    "\n",
    "Create a new column called `followers_count` that contains the number of followers of each user. You can find this information in `tweet['user']['followers_count']`. Do the same for `friends_count`.\n",
    "\n",
    "For the rest of this project, we will be using these three features, but we encourage you to create your own. Here are some potential ideas for more features.\n",
    "\n",
    "* The number of hashtags in the tweet. You can find this by looking at the `text` of the tweet and using the `.count()` function with `#` as a parameter.\n",
    "* The number of links in the tweet. Using a similar strategy to the one above, use `.count()` to count the number of times `http` appears in the tweet.\n",
    "* The number of words in the tweet. Call `.split()` on the `text` of a tweet. This will give you a list of the words in the tweet. Find the length of that list.\n",
    "* The average length of the words in the tweet."
   ]
  },
  {
   "cell_type": "code",
   "execution_count": 17,
   "metadata": {},
   "outputs": [
    {
     "name": "stdout",
     "output_type": "stream",
     "text": [
      "                 created_at                   id               id_str  \\\n",
      "0 2018-07-31 13:34:40+00:00  1024287229525598210  1024287229525598208   \n",
      "1 2018-07-31 13:34:40+00:00  1024287229512953856  1024287229512953856   \n",
      "2 2018-07-31 13:34:40+00:00  1024287229504569344  1024287229504569344   \n",
      "3 2018-07-31 13:34:40+00:00  1024287229496029190  1024287229496029184   \n",
      "4 2018-07-31 13:34:40+00:00  1024287229492031490  1024287229492031488   \n",
      "5 2018-07-31 13:34:40+00:00  1024287229491994625  1024287229491994624   \n",
      "6 2018-07-31 13:34:40+00:00  1024287229454233605  1024287229454233600   \n",
      "\n",
      "                                                text  truncated  \\\n",
      "0  RT @KWWLStormTrack7: We are more than a month ...      False   \n",
      "1  @hail_ee23 Thanks love its just the feeling of...      False   \n",
      "2  RT @TransMediaWatch: Pink News has more on the...      False   \n",
      "3  RT @realDonaldTrump: One of the reasons we nee...      False   \n",
      "4  RT @First5App: This hearing of His Word doesn’...      False   \n",
      "5  RT @attackerman: This is torture: “The staff t...      False   \n",
      "6  Did a demo of our Mobile Prototyping Kit at UX...       True   \n",
      "\n",
      "                                            entities  \\\n",
      "0  {'hashtags': [], 'symbols': [], 'user_mentions...   \n",
      "1  {'hashtags': [], 'symbols': [], 'user_mentions...   \n",
      "2  {'hashtags': [], 'symbols': [], 'user_mentions...   \n",
      "3  {'hashtags': [], 'symbols': [], 'user_mentions...   \n",
      "4  {'hashtags': [], 'symbols': [], 'user_mentions...   \n",
      "5  {'hashtags': [], 'symbols': [], 'user_mentions...   \n",
      "6  {'hashtags': [], 'symbols': [], 'user_mentions...   \n",
      "\n",
      "                                            metadata  \\\n",
      "0  {'iso_language_code': 'en', 'result_type': 're...   \n",
      "1  {'iso_language_code': 'en', 'result_type': 're...   \n",
      "2  {'iso_language_code': 'en', 'result_type': 're...   \n",
      "3  {'iso_language_code': 'en', 'result_type': 're...   \n",
      "4  {'iso_language_code': 'en', 'result_type': 're...   \n",
      "5  {'iso_language_code': 'en', 'result_type': 're...   \n",
      "6  {'iso_language_code': 'en', 'result_type': 're...   \n",
      "\n",
      "                                              source  in_reply_to_status_id  \\\n",
      "0  <a href=\"http://twitter.com/download/android\" ...                    NaN   \n",
      "1  <a href=\"http://twitter.com/download/iphone\" r...           1.024128e+18   \n",
      "2  <a href=\"http://twitter.com/download/iphone\" r...                    NaN   \n",
      "3  <a href=\"http://twitter.com/download/android\" ...                    NaN   \n",
      "4  <a href=\"http://twitter.com/download/iphone\" r...                    NaN   \n",
      "5  <a href=\"http://twitter.com/download/android\" ...                    NaN   \n",
      "6  <a href=\"https://ifttt.com\" rel=\"nofollow\">IFT...                    NaN   \n",
      "\n",
      "   in_reply_to_status_id_str  ...  quoted_status_id_str  extended_entities  \\\n",
      "0                        NaN  ...                   NaN                NaN   \n",
      "1               1.024128e+18  ...                   NaN                NaN   \n",
      "2                        NaN  ...                   NaN                NaN   \n",
      "3                        NaN  ...                   NaN                NaN   \n",
      "4                        NaN  ...                   NaN                NaN   \n",
      "5                        NaN  ...          1.024256e+18                NaN   \n",
      "6                        NaN  ...                   NaN                NaN   \n",
      "\n",
      "  quoted_status withheld_in_countries tweet_length followers_count  \\\n",
      "0           NaN                   NaN          140             215   \n",
      "1           NaN                   NaN           77             199   \n",
      "2           NaN                   NaN          140             196   \n",
      "3           NaN                   NaN          140            3313   \n",
      "4           NaN                   NaN          140             125   \n",
      "5           NaN                   NaN          139             128   \n",
      "6           NaN                   NaN          140             259   \n",
      "\n",
      "  friends_count  hashtags_number links_number  words_number  \n",
      "0           335                0            0            26  \n",
      "1           203                0            0            15  \n",
      "2           558                0            0            22  \n",
      "3          2272                0            0            24  \n",
      "4           273                0            0            24  \n",
      "5           496                0            0            24  \n",
      "6           204                0            1            23  \n",
      "\n",
      "[7 rows x 37 columns]\n"
     ]
    }
   ],
   "source": [
    "all_tweets['tweet_length'] = all_tweets.apply(lambda tweet: len(tweet['text']), axis=1)\n",
    "all_tweets['followers_count'] = all_tweets.apply(lambda tweet: tweet['user']['followers_count'], axis=1)\n",
    "all_tweets['friends_count'] = all_tweets.apply(lambda tweet: tweet['user']['friends_count'], axis=1)\n",
    "all_tweets['hashtags_number'] = all_tweets.apply(lambda tweet: tweet['text'].count('#'), axis=1)\n",
    "all_tweets['links_number'] = all_tweets.apply(lambda tweet: tweet['text'].count('http'), axis=1)\n",
    "all_tweets['words_number'] = all_tweets.apply(lambda tweet: 1 + tweet['text'].count(\" \"), axis=1)\n",
    "#split_all_tweets = all_tweets['text'].str.split(\" \",expand=True)\n",
    "#print(split_all_tweets.head())\n",
    "print(all_tweets.head(7))"
   ]
  },
  {
   "cell_type": "markdown",
   "metadata": {},
   "source": [
    "# Normalizing The Data\n",
    "\n",
    "We've now made the columns that we want to feed into our classifier. Let's get rid of all the data that is no longer relevant. Create a variable named `labels` and set it equal to the `'is_viral'` column of all_tweets.\n",
    "\n",
    "If we had a dataframe named `df` we could get a single column named `A` like this:\n",
    "\n",
    "```py\n",
    "one_column = df['A']\n",
    "```\n",
    "\n",
    "Create a variable named `data` and set it equal to all of the columns that you created in the last step. Those columns are `tweet_length`, `followers_count`, and `friends_count`.\n",
    "\n",
    "When selecting multiple columns, the names of the columns should be in a list. Check out the example below to see how to select column `A` *and* `B`:\n",
    "\n",
    "```py\n",
    "features = df[['A', 'B']]\n",
    "```\n",
    "\n",
    "Now create a new variable named `scaled_data`. `scaled_data` should be the result of the `scale` function with `data` as a parameter. Also include the parameter `axis = 0`. This scales the *columns* as opposed to the rows.\n",
    "\n",
    "The scale function will normalize the data so all of the features will vary within the same range.\n",
    "\n",
    "Print `scaled_data[0]` to get a sense of what our data looks like."
   ]
  },
  {
   "cell_type": "code",
   "execution_count": 26,
   "metadata": {},
   "outputs": [
    {
     "name": "stdout",
     "output_type": "stream",
     "text": [
      "   tweet_length  followers_count  friends_count  hashtags_number  \\\n",
      "0           140              215            335                0   \n",
      "1            77              199            203                0   \n",
      "2           140              196            558                0   \n",
      "3           140             3313           2272                0   \n",
      "4           140              125            273                0   \n",
      "5           139              128            496                0   \n",
      "6           140              259            204                0   \n",
      "\n",
      "   links_number  words_number  \n",
      "0             0            26  \n",
      "1             0            15  \n",
      "2             0            22  \n",
      "3             0            24  \n",
      "4             0            24  \n",
      "5             0            24  \n",
      "6             1            23  \n",
      "[ 0.6164054  -0.02878298 -0.14483305 -0.32045057 -0.78415588  1.15749167]\n"
     ]
    }
   ],
   "source": [
    "from sklearn.preprocessing import scale\n",
    "labels = all_tweets['is_viral']\n",
    "data = all_tweets[['tweet_length','followers_count','friends_count','hashtags_number','links_number','words_number']]\n",
    "print(data.head(7))\n",
    "scaled_data = scale(data, axis=0)\n",
    "print(scaled_data[0])"
   ]
  },
  {
   "cell_type": "markdown",
   "metadata": {},
   "source": [
    "# Creating the Training Set and Test Set\n",
    "\n",
    "To evaluate the effectiveness of our classifier, we now split `scaled_data` and `labels` into a training set and test set using scikit-learn's `train_test_split` function. This function takes two required parameters: It takes the data, followed by the labels. Set the optional parameter `test_size` to be `0.2`. You can also set the `random_state` parameter so your code will randomly split the data in the same way as our solution code splits the data. We used `random_state = 1`. Remember, this function returns 4 items in this order:\n",
    "\n",
    "1. The training data\n",
    "2. The testing data\n",
    "3. The training labels\n",
    "4. The testing labels\n",
    "\n",
    "Store the results in variables named `train_data`, `test_data`, `train_labels`, and `test_labels`."
   ]
  },
  {
   "cell_type": "code",
   "execution_count": 29,
   "metadata": {},
   "outputs": [],
   "source": [
    "from sklearn.model_selection import train_test_split\n",
    "train_data, test_data, train_labels, test_labels = train_test_split(scaled_data, labels, test_size=0.2,random_state=1)\n"
   ]
  },
  {
   "cell_type": "markdown",
   "metadata": {},
   "source": [
    "# Using the Classifier\n",
    "\n",
    "We can finally use the K-Nearest Neighbor classifier. Let's test it using `k = 5`. Begin by creating a `KNeighborsClassifier` object named `classifier` with the parameter `n_neighbors` equal to `5`.\n",
    "\n",
    "Next, train `classifier` by calling the `.fit()` method with `train_data` and `train_labels` as parameters.\n",
    "\n",
    "Finally, let's test the model! Call `classifier`'s `.score()` method using `test_data` and `test_labels` as parameters. Print the results.\n"
   ]
  },
  {
   "cell_type": "code",
   "execution_count": 42,
   "metadata": {},
   "outputs": [
    {
     "name": "stdout",
     "output_type": "stream",
     "text": [
      "0.8761261261261262\n"
     ]
    }
   ],
   "source": [
    "from sklearn.neighbors import KNeighborsClassifier\n",
    "classifier = KNeighborsClassifier(n_neighbors = 6)\n",
    "classifier.fit(train_data, train_labels)\n",
    "print(classifier.score(test_data, test_labels))"
   ]
  },
  {
   "cell_type": "markdown",
   "metadata": {},
   "source": [
    "# Choosing K\n",
    "\n",
    "We've tested our classifier with `k = 5`, but maybe there's a `k` that will work better. Let's test many different values for `k` and graph the results. \n",
    "\n",
    "First, create an empty list called `scores`. Next, create a for loop that has a variable `k` that begins at `1` and ends at `200`.\n",
    "\n",
    "Inside the for loop, create a `KNeighobrsClassifier` object named `classifier` with the parameter `n_neighbors` equal to `k`.\n",
    "\n",
    "Train `classifier` by calling the `.fit()` method with `train_data` and `train_labels` as parameters.\n",
    "\n",
    "Next, let's test the model! Call `classifier`'s `.score()` method using `test_data` and `test_labels` as parameters. `append` the result to `scores`.\n",
    "\n",
    "Finally, let's plot the results. Outside of the loop, use Matplotlib's `plot()` function. `plot()` takes two parameters &mdash; the data on the x-axis and the data on the y-axis. Data on the x-axis should be the values we used for `k`. In this case, `range(1,200)`.  Data on the y-axis should be `scores`. Make sure to call the `plt.show()` function after calling `plt.plot()`. This should take a couple of seconds to run!"
   ]
  },
  {
   "cell_type": "code",
   "execution_count": 41,
   "metadata": {},
   "outputs": [
    {
     "name": "stdout",
     "output_type": "stream",
     "text": [
      "0.8761261261261262\n",
      "[0.836036036036036, 0.872072072072072, 0.8567567567567568, 0.8743243243243243, 0.8653153153153154, 0.8761261261261262, 0.8689189189189189, 0.8711711711711712, 0.8662162162162163, 0.8725225225225225, 0.8675675675675676, 0.8707207207207207, 0.8698198198198198, 0.8698198198198198, 0.8693693693693694, 0.8707207207207207, 0.8702702702702703, 0.8716216216216216, 0.8702702702702703, 0.8698198198198198, 0.8693693693693694, 0.8698198198198198, 0.8702702702702703, 0.872072072072072, 0.8716216216216216, 0.872072072072072, 0.872072072072072, 0.872072072072072, 0.872072072072072, 0.8716216216216216, 0.8707207207207207, 0.8711711711711712, 0.8702702702702703, 0.8707207207207207, 0.8707207207207207, 0.8711711711711712, 0.8707207207207207, 0.8707207207207207, 0.8716216216216216, 0.8707207207207207, 0.8702702702702703, 0.8702702702702703, 0.8707207207207207, 0.8711711711711712, 0.8716216216216216, 0.8707207207207207, 0.8702702702702703, 0.8693693693693694, 0.8698198198198198]\n"
     ]
    },
    {
     "data": {
      "image/png": "[encoded data removed]",
      "text/plain": [
       "<Figure size 432x288 with 1 Axes>"
      ]
     },
     "metadata": {
      "needs_background": "light"
     },
     "output_type": "display_data"
    }
   ],
   "source": [
    "import matplotlib.pyplot as plt\n",
    "scores = []\n",
    "for k in range(1, 50):\n",
    "#range (1,200) was time consuming and the score follow the same tendency as the graph below  \n",
    "  classifier = KNeighborsClassifier(n_neighbors = k)\n",
    "  classifier.fit(train_data, train_labels)\n",
    "  scores.append(classifier.score(test_data, test_labels))\n",
    "\n",
    "k_list = range(1,50)\n",
    "print(max(scores))\n",
    "print(scores)\n",
    "\n",
    "plt.plot(k_list,scores)\n",
    "plt.xlabel('K')\n",
    "plt.ylabel('Validation Accuracy')\n",
    "plt.title('Viral Tweets Classifier Accuracy')\n",
    "plt.show()"
   ]
  },
  {
   "cell_type": "markdown",
   "metadata": {},
   "source": [
    "# Explore on your own\n",
    "\n",
    "Nice work! You can see the classifier gets better as `k` increases, but as `k` gets too high, underfitting starts to happen.\n",
    "\n",
    "By using the features `tweet_length`, `followers_count`, and `friends_count`, we were able to get up to around 63% accuracy. That is better than random, but still not exceptional. Can you find some different features that perform better? Share your graphs with us on Twitter and maybe it will go viral!"
   ]
  }
 ],
 "metadata": {
  "kernelspec": {
   "display_name": "Python 3",
   "language": "python",
   "name": "python3"
  },
  "language_info": {
   "codemirror_mode": {
    "name": "ipython",
    "version": 3
   },
   "file_extension": ".py",
   "mimetype": "text/x-python",
   "name": "python",
   "nbconvert_exporter": "python",
   "pygments_lexer": "ipython3",
   "version": "3.7.6"
  }
 },
 "nbformat": 4,
 "nbformat_minor": 2
}
